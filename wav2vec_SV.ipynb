{
  "nbformat": 4,
  "nbformat_minor": 0,
  "metadata": {
    "colab": {
      "name": "Untitled0.ipynb",
      "provenance": [],
      "collapsed_sections": [],
      "include_colab_link": true
    },
    "kernelspec": {
      "name": "python3",
      "display_name": "Python 3"
    }
  },
  "cells": [
    {
      "cell_type": "markdown",
      "metadata": {
        "id": "view-in-github",
        "colab_type": "text"
      },
      "source": [
        "<a href=\"https://colab.research.google.com/github/danshal/DL_project/blob/develop/wav2vec_SV.ipynb\" target=\"_parent\"><img src=\"https://colab.research.google.com/assets/colab-badge.svg\" alt=\"Open In Colab\"/></a>"
      ]
    },
    {
      "cell_type": "code",
      "metadata": {
        "colab": {
          "base_uri": "https://localhost:8080/"
        },
        "id": "lrUm8Aq77l9f",
        "outputId": "d81ff095-1bec-47df-e2fd-b2a373a315aa"
      },
      "source": [
        "from google.colab import drive\n",
        "drive.mount('/content/drive')"
      ],
      "execution_count": null,
      "outputs": [
        {
          "output_type": "stream",
          "text": [
            "Mounted at /content/drive\n"
          ],
          "name": "stdout"
        }
      ]
    },
    {
      "cell_type": "code",
      "metadata": {
        "colab": {
          "base_uri": "https://localhost:8080/"
        },
        "id": "uGYVL2qchQc1",
        "outputId": "3b8350cf-d5ae-4ff5-d0dd-2c3ba1e5bfd4"
      },
      "source": [
        "!pip install soundfile\r\n",
        "!pip install fairseq\r\n"
      ],
      "execution_count": null,
      "outputs": [
        {
          "output_type": "stream",
          "text": [
            "Collecting soundfile\n",
            "  Downloading https://files.pythonhosted.org/packages/eb/f2/3cbbbf3b96fb9fa91582c438b574cff3f45b29c772f94c400e2c99ef5db9/SoundFile-0.10.3.post1-py2.py3-none-any.whl\n",
            "Requirement already satisfied: cffi>=1.0 in /usr/local/lib/python3.6/dist-packages (from soundfile) (1.14.4)\n",
            "Requirement already satisfied: pycparser in /usr/local/lib/python3.6/dist-packages (from cffi>=1.0->soundfile) (2.20)\n",
            "Installing collected packages: soundfile\n",
            "Successfully installed soundfile-0.10.3.post1\n",
            "Collecting fairseq\n",
            "\u001b[?25l  Downloading https://files.pythonhosted.org/packages/61/7b/2c90e007d737f4a2b7cd5066ac3a3d88acb2ce765972a61c308914c95568/fairseq-0.10.2-cp36-cp36m-manylinux1_x86_64.whl (1.7MB)\n",
            "\u001b[K     |████████████████████████████████| 1.7MB 5.3MB/s \n",
            "\u001b[?25hRequirement already satisfied: regex in /usr/local/lib/python3.6/dist-packages (from fairseq) (2019.12.20)\n",
            "Requirement already satisfied: dataclasses in /usr/local/lib/python3.6/dist-packages (from fairseq) (0.8)\n",
            "Collecting sacrebleu>=1.4.12\n",
            "\u001b[?25l  Downloading https://files.pythonhosted.org/packages/3b/7f/4fd83db8570288c3899d8e57666c2841403c15659f3d792a3cb8dc1c6689/sacrebleu-1.5.0-py3-none-any.whl (65kB)\n",
            "\u001b[K     |████████████████████████████████| 71kB 5.8MB/s \n",
            "\u001b[?25hRequirement already satisfied: numpy in /usr/local/lib/python3.6/dist-packages (from fairseq) (1.19.5)\n",
            "Collecting hydra-core\n",
            "\u001b[?25l  Downloading https://files.pythonhosted.org/packages/73/6e/6298e4099ecf7344fb6621e83ec92ba4384699397b2d9b2d17819f869a1d/hydra_core-1.0.5-py3-none-any.whl (123kB)\n",
            "\u001b[K     |████████████████████████████████| 133kB 21.8MB/s \n",
            "\u001b[?25hRequirement already satisfied: cffi in /usr/local/lib/python3.6/dist-packages (from fairseq) (1.14.4)\n",
            "Requirement already satisfied: tqdm in /usr/local/lib/python3.6/dist-packages (from fairseq) (4.41.1)\n",
            "Requirement already satisfied: cython in /usr/local/lib/python3.6/dist-packages (from fairseq) (0.29.21)\n",
            "Requirement already satisfied: torch in /usr/local/lib/python3.6/dist-packages (from fairseq) (1.7.0+cu101)\n",
            "Collecting portalocker\n",
            "  Downloading https://files.pythonhosted.org/packages/89/a6/3814b7107e0788040870e8825eebf214d72166adf656ba7d4bf14759a06a/portalocker-2.0.0-py2.py3-none-any.whl\n",
            "Collecting omegaconf<2.1,>=2.0.5\n",
            "  Downloading https://files.pythonhosted.org/packages/d0/eb/9d63ce09dd8aa85767c65668d5414958ea29648a0eec80a4a7d311ec2684/omegaconf-2.0.6-py3-none-any.whl\n",
            "Requirement already satisfied: importlib-resources; python_version < \"3.9\" in /usr/local/lib/python3.6/dist-packages (from hydra-core->fairseq) (4.1.1)\n",
            "Collecting antlr4-python3-runtime==4.8\n",
            "\u001b[?25l  Downloading https://files.pythonhosted.org/packages/56/02/789a0bddf9c9b31b14c3e79ec22b9656185a803dc31c15f006f9855ece0d/antlr4-python3-runtime-4.8.tar.gz (112kB)\n",
            "\u001b[K     |████████████████████████████████| 112kB 19.0MB/s \n",
            "\u001b[?25hRequirement already satisfied: pycparser in /usr/local/lib/python3.6/dist-packages (from cffi->fairseq) (2.20)\n",
            "Requirement already satisfied: future in /usr/local/lib/python3.6/dist-packages (from torch->fairseq) (0.16.0)\n",
            "Requirement already satisfied: typing-extensions in /usr/local/lib/python3.6/dist-packages (from torch->fairseq) (3.7.4.3)\n",
            "Collecting PyYAML>=5.1.*\n",
            "\u001b[?25l  Downloading https://files.pythonhosted.org/packages/7a/5b/bc0b5ab38247bba158504a410112b6c03f153c652734ece1849749e5f518/PyYAML-5.4.1-cp36-cp36m-manylinux1_x86_64.whl (640kB)\n",
            "\u001b[K     |████████████████████████████████| 645kB 18.7MB/s \n",
            "\u001b[?25hRequirement already satisfied: zipp>=0.4; python_version < \"3.8\" in /usr/local/lib/python3.6/dist-packages (from importlib-resources; python_version < \"3.9\"->hydra-core->fairseq) (3.4.0)\n",
            "Building wheels for collected packages: antlr4-python3-runtime\n",
            "  Building wheel for antlr4-python3-runtime (setup.py) ... \u001b[?25l\u001b[?25hdone\n",
            "  Created wheel for antlr4-python3-runtime: filename=antlr4_python3_runtime-4.8-cp36-none-any.whl size=141231 sha256=0f39136313fd14764caeda644b968a6ebf0760c431716d9a9ed38f7494f453d0\n",
            "  Stored in directory: /root/.cache/pip/wheels/e3/e2/fa/b78480b448b8579ddf393bebd3f47ee23aa84c89b6a78285c8\n",
            "Successfully built antlr4-python3-runtime\n",
            "Installing collected packages: portalocker, sacrebleu, PyYAML, omegaconf, antlr4-python3-runtime, hydra-core, fairseq\n",
            "  Found existing installation: PyYAML 3.13\n",
            "    Uninstalling PyYAML-3.13:\n",
            "      Successfully uninstalled PyYAML-3.13\n",
            "Successfully installed PyYAML-5.4.1 antlr4-python3-runtime-4.8 fairseq-0.10.2 hydra-core-1.0.5 omegaconf-2.0.6 portalocker-2.0.0 sacrebleu-1.5.0\n"
          ],
          "name": "stdout"
        }
      ]
    },
    {
      "cell_type": "code",
      "metadata": {
        "id": "cV96x_bwgVtP"
      },
      "source": [
        "#!/usr/bin/env python3\r\n",
        "# Copyright (c) Facebook, Inc. and its affiliates.\r\n",
        "#\r\n",
        "# This source code is licensed under the MIT license found in the\r\n",
        "# LICENSE file in the root directory of this source tree.\r\n",
        "\r\n",
        "\"\"\"\r\n",
        "Helper script to pre-compute embeddings for a flashlight (previously called wav2letter++) dataset\r\n",
        "\"\"\"\r\n",
        "\r\n",
        "import argparse\r\n",
        "import glob\r\n",
        "import os\r\n",
        "import os.path as osp\r\n",
        "import pprint\r\n",
        "\r\n",
        "import soundfile as sf\r\n",
        "import torch\r\n",
        "import fairseq\r\n",
        "from torch import nn\r\n",
        "from torch.utils.data import DataLoader\r\n",
        "\r\n",
        "\r\n",
        "try:\r\n",
        "    import tqdm\r\n",
        "except:\r\n",
        "    print(\"Install tqdm to use --log-format=tqdm\")"
      ],
      "execution_count": null,
      "outputs": []
    },
    {
      "cell_type": "code",
      "metadata": {
        "id": "hXNkGSSyct-Z"
      },
      "source": [
        "\r\n",
        "cp_path = '/content/drive/My Drive/DeepProject/wav2vec/wav2vec_small.pt'\r\n",
        "model, cfg, task = fairseq.checkpoint_utils.load_model_ensemble_and_task([cp_path])\r\n",
        "model = model[0]\r\n",
        "model.eval()\r\n",
        "\r\n",
        "wav_input_16khz = torch.randn(1,10000)\r\n",
        "z = model.feature_extractor(wav_input_16khz)"
      ],
      "execution_count": null,
      "outputs": []
    },
    {
      "cell_type": "code",
      "metadata": {
        "colab": {
          "base_uri": "https://localhost:8080/"
        },
        "id": "GiweMp_zd1jT",
        "outputId": "477017be-ff35-4bd0-e90c-3d9c6a974907"
      },
      "source": [
        "print(wav_input_16khz.shape)\r\n",
        "print(z.shape)"
      ],
      "execution_count": 83,
      "outputs": [
        {
          "output_type": "stream",
          "text": [
            "torch.Size([1, 10000])\n",
            "torch.Size([1, 512, 31])\n",
            "tensor([[ 0.7477,  0.9358,  1.0242,  ..., -0.1308, -1.2485, -1.3395]])\n"
          ],
          "name": "stdout"
        }
      ]
    },
    {
      "cell_type": "markdown",
      "metadata": {
        "id": "zqTVuZlT1S3a"
      },
      "source": [
        "##Import 2 examples from dataset and check the similarity between two same class examples"
      ]
    },
    {
      "cell_type": "code",
      "metadata": {
        "colab": {
          "base_uri": "https://localhost:8080/"
        },
        "id": "o2GzLFgG1LzX",
        "outputId": "a5d472a0-6ff3-4c77-caad-1d0487bf161a"
      },
      "source": [
        "!wget https://www.openslr.org/resources/12/dev-clean.tar.gz"
      ],
      "execution_count": 19,
      "outputs": [
        {
          "output_type": "stream",
          "text": [
            "--2021-01-23 17:45:57--  https://www.openslr.org/resources/12/dev-clean.tar.gz\n",
            "Resolving www.openslr.org (www.openslr.org)... 46.101.158.64\n",
            "Connecting to www.openslr.org (www.openslr.org)|46.101.158.64|:443... connected.\n",
            "HTTP request sent, awaiting response... 200 OK\n",
            "Length: 337926286 (322M) [application/x-gzip]\n",
            "Saving to: ‘dev-clean.tar.gz’\n",
            "\n",
            "dev-clean.tar.gz    100%[===================>] 322.27M  25.0MB/s    in 15s     \n",
            "\n",
            "2021-01-23 17:46:12 (21.2 MB/s) - ‘dev-clean.tar.gz’ saved [337926286/337926286]\n",
            "\n"
          ],
          "name": "stdout"
        }
      ]
    },
    {
      "cell_type": "code",
      "metadata": {
        "id": "ZoFLHW8eWipL"
      },
      "source": [
        "!tar -xf dev-clean.tar.gz"
      ],
      "execution_count": 24,
      "outputs": []
    },
    {
      "cell_type": "code",
      "metadata": {
        "colab": {
          "base_uri": "https://localhost:8080/"
        },
        "id": "bqgF-xlnXJIv",
        "outputId": "a9d9894d-8ca5-49f2-d81d-053a1a5cccae"
      },
      "source": [
        "def read_audio(fname):\r\n",
        "    \"\"\" Load an audio file and return PCM along with the sample rate \"\"\"\r\n",
        "\r\n",
        "    wav, sr = sf.read(fname)\r\n",
        "    assert sr == 16e3\r\n",
        "\r\n",
        "    return wav, 16e3\r\n",
        "\r\n",
        "\r\n",
        "def audio2tensor(fname):\r\n",
        "  input = read_audio(fname)\r\n",
        "  input_tensor = torch.from_numpy(input).float()\r\n",
        "  input_tensor = input_tensor.resize(1, input1_tensor.size(0))\r\n",
        "\r\n",
        "wav2vec_utils = '/fairseq/'\r\n",
        "speaker_84_data_dir = 'LibriSpeech/dev-clean/84'\r\n",
        "input1, _ = read_audio(f'{speaker_84_data_dir}/121123/84-121123-0003.flac')\r\n",
        "input2, _ = read_audio(f'{speaker_84_data_dir}/121123/84-121123-0004.flac')\r\n",
        "input1_tensor = torch.from_numpy(input1).float()\r\n",
        "input2_tensor = torch.from_numpy(input2).float()\r\n",
        "print(f'input1 size is = {input1_tensor.shape} ; input2 size is = {input2_tensor.shape}')\r\n",
        "input1_tensor = input1_tensor.resize(1, input1_tensor.size(0))\r\n",
        "input2_tensor = input2_tensor.resize(1, input2_tensor.size(0))\r\n",
        "#Pass them through the encoder\r\n",
        "output1 = model.feature_extractor(input1_tensor)\r\n",
        "output2 = model.feature_extractor(input2_tensor)\r\n",
        "print(output1.shape)\r\n",
        "print(output2.shape)"
      ],
      "execution_count": 109,
      "outputs": [
        {
          "output_type": "stream",
          "text": [
            "input1 size is = torch.Size([108800]) ; input2 size is = torch.Size([70400])\n"
          ],
          "name": "stdout"
        },
        {
          "output_type": "stream",
          "text": [
            "/usr/local/lib/python3.6/dist-packages/torch/tensor.py:447: UserWarning: non-inplace resize is deprecated\n",
            "  warnings.warn(\"non-inplace resize is deprecated\")\n"
          ],
          "name": "stderr"
        },
        {
          "output_type": "stream",
          "text": [
            "torch.Size([1, 512, 339])\n",
            "torch.Size([1, 512, 219])\n"
          ],
          "name": "stdout"
        }
      ]
    },
    {
      "cell_type": "markdown",
      "metadata": {
        "id": "zEuPw6anovYU"
      },
      "source": [
        "##This is the feature extractor of the model"
      ]
    },
    {
      "cell_type": "code",
      "metadata": {
        "id": "S7Hvwb2co0Q9"
      },
      "source": [
        "class ConvFeatureExtractionModel(nn.Module):\r\n",
        "    def __init__(\r\n",
        "        self,\r\n",
        "        conv_layers,\r\n",
        "        dropout,\r\n",
        "        log_compression,\r\n",
        "        skip_connections,\r\n",
        "        residual_scale,\r\n",
        "        non_affine_group_norm,\r\n",
        "        activation,\r\n",
        "    ):\r\n",
        "        super().__init__()\r\n",
        "\r\n",
        "        def block(n_in, n_out, k, stride):\r\n",
        "            return nn.Sequential(\r\n",
        "                nn.Conv1d(n_in, n_out, k, stride=stride, bias=False),\r\n",
        "                nn.Dropout(p=dropout),\r\n",
        "                norm_block(\r\n",
        "                    is_layer_norm=False, dim=n_out, affine=not non_affine_group_norm\r\n",
        "                ),\r\n",
        "                activation,\r\n",
        "            )\r\n",
        "\r\n",
        "        in_d = 1\r\n",
        "        self.conv_layers = nn.ModuleList()\r\n",
        "        for dim, k, stride in conv_layers:\r\n",
        "            self.conv_layers.append(block(in_d, dim, k, stride))\r\n",
        "            in_d = dim\r\n",
        "\r\n",
        "        self.log_compression = log_compression\r\n",
        "        self.skip_connections = skip_connections\r\n",
        "        self.residual_scale = math.sqrt(residual_scale)\r\n",
        "\r\n",
        "    def forward(self, x):\r\n",
        "        # BxT -> BxCxT\r\n",
        "        x = x.unsqueeze(1)\r\n",
        "\r\n",
        "        for conv in self.conv_layers:\r\n",
        "            residual = x\r\n",
        "            x = conv(x)\r\n",
        "            if self.skip_connections and x.size(1) == residual.size(1):\r\n",
        "                tsz = x.size(2)\r\n",
        "                r_tsz = residual.size(2)\r\n",
        "                residual = residual[..., :: r_tsz // tsz][..., :tsz]\r\n",
        "                x = (x + residual) * self.residual_scale\r\n",
        "\r\n",
        "        if self.log_compression:\r\n",
        "            x = x.abs()\r\n",
        "            x = x + 1\r\n",
        "            x = x.log()\r\n",
        "\r\n",
        "        return x\r\n",
        "  "
      ],
      "execution_count": 112,
      "outputs": []
    }
  ]
}