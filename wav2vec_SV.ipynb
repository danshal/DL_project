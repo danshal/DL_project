{
  "nbformat": 4,
  "nbformat_minor": 0,
  "metadata": {
    "colab": {
      "name": "wav2vec_SV.ipynb",
      "provenance": [],
      "collapsed_sections": [],
      "toc_visible": true,
      "include_colab_link": true
    },
    "kernelspec": {
      "name": "python3",
      "display_name": "Python 3"
    },
    "accelerator": "GPU"
  },
  "cells": [
    {
      "cell_type": "markdown",
      "metadata": {
        "id": "view-in-github",
        "colab_type": "text"
      },
      "source": [
        "<a href=\"https://colab.research.google.com/github/danshal/DL_project/blob/develop/wav2vec_SV.ipynb\" target=\"_parent\"><img src=\"https://colab.research.google.com/assets/colab-badge.svg\" alt=\"Open In Colab\"/></a>"
      ]
    },
    {
      "cell_type": "markdown",
      "metadata": {
        "id": "_Wl_onLCsnYA"
      },
      "source": [
        "##Mount Google Drive"
      ]
    },
    {
      "cell_type": "code",
      "metadata": {
        "id": "2wZdYezr-O3Y",
        "colab": {
          "base_uri": "https://localhost:8080/"
        },
        "outputId": "de7e8c93-d3fb-49d1-9c82-5a8cd101bfaf"
      },
      "source": [
        "from google.colab import drive\r\n",
        "drive.mount('/content/drive')"
      ],
      "execution_count": 1,
      "outputs": [
        {
          "output_type": "stream",
          "text": [
            "Mounted at /content/drive\n"
          ],
          "name": "stdout"
        }
      ]
    },
    {
      "cell_type": "markdown",
      "metadata": {
        "id": "Wfi2rXAIs9rR"
      },
      "source": [
        "##Install fairseq and more packages"
      ]
    },
    {
      "cell_type": "code",
      "metadata": {
        "colab": {
          "base_uri": "https://localhost:8080/"
        },
        "id": "yMEDrdPctBfp",
        "outputId": "9c5fd22d-2ac4-4e9e-e779-6efd8db70519"
      },
      "source": [
        "!pip install soundfile git+git://github.com/pytorch/fairseq.git@b8ea8a9b72c82192da07e3377adf4ebbde16716d\r\n",
        "!pip install fairseq\r\n",
        "!pip install torch==1.7.1+cu101 torchvision==0.8.2+cu101 torchaudio===0.7.2 -f https://download.pytorch.org/whl/torch_stable.html\r\n",
        "#!mkdir fairseq_code\r\n",
        "#%cd /content/drive/MyDrive/DeepProject/wav2vec/fairseq_code/\r\n",
        "#!git clone https://github.com/pytorch/fairseq.git"
      ],
      "execution_count": 4,
      "outputs": [
        {
          "output_type": "stream",
          "text": [
            "Collecting git+git://github.com/pytorch/fairseq.git@b8ea8a9b72c82192da07e3377adf4ebbde16716d\n",
            "  Cloning git://github.com/pytorch/fairseq.git (to revision b8ea8a9b72c82192da07e3377adf4ebbde16716d) to /tmp/pip-req-build-wgn0rnm8\n",
            "  Running command git clone -q git://github.com/pytorch/fairseq.git /tmp/pip-req-build-wgn0rnm8\n",
            "  Running command git checkout -q b8ea8a9b72c82192da07e3377adf4ebbde16716d\n",
            "  Running command git submodule update --init --recursive -q\n",
            "  Installing build dependencies ... \u001b[?25l\u001b[?25hdone\n",
            "  Getting requirements to build wheel ... \u001b[?25l\u001b[?25hdone\n",
            "  Installing backend dependencies ... \u001b[?25l\u001b[?25hdone\n",
            "    Preparing wheel metadata ... \u001b[?25l\u001b[?25hdone\n",
            "Requirement already satisfied (use --upgrade to upgrade): fairseq==1.0.0a0+b8ea8a9 from git+git://github.com/pytorch/fairseq.git@b8ea8a9b72c82192da07e3377adf4ebbde16716d in /usr/local/lib/python3.6/dist-packages\n",
            "Requirement already satisfied: soundfile in /usr/local/lib/python3.6/dist-packages (0.10.3.post1)\n",
            "Requirement already satisfied: dataclasses; python_version < \"3.7\" in /usr/local/lib/python3.6/dist-packages (from fairseq==1.0.0a0+b8ea8a9) (0.8)\n",
            "Requirement already satisfied: hydra-core<1.1 in /usr/local/lib/python3.6/dist-packages (from fairseq==1.0.0a0+b8ea8a9) (1.0.5)\n",
            "Requirement already satisfied: sacrebleu>=1.4.12 in /usr/local/lib/python3.6/dist-packages (from fairseq==1.0.0a0+b8ea8a9) (1.5.0)\n",
            "Requirement already satisfied: numpy<1.20.0; python_version < \"3.7\" in /usr/local/lib/python3.6/dist-packages (from fairseq==1.0.0a0+b8ea8a9) (1.19.5)\n",
            "Requirement already satisfied: regex in /usr/local/lib/python3.6/dist-packages (from fairseq==1.0.0a0+b8ea8a9) (2019.12.20)\n",
            "Requirement already satisfied: omegaconf<2.1 in /usr/local/lib/python3.6/dist-packages (from fairseq==1.0.0a0+b8ea8a9) (2.0.6)\n",
            "Requirement already satisfied: cffi in /usr/local/lib/python3.6/dist-packages (from fairseq==1.0.0a0+b8ea8a9) (1.14.4)\n",
            "Requirement already satisfied: tqdm in /usr/local/lib/python3.6/dist-packages (from fairseq==1.0.0a0+b8ea8a9) (4.41.1)\n",
            "Requirement already satisfied: torch in /usr/local/lib/python3.6/dist-packages (from fairseq==1.0.0a0+b8ea8a9) (1.7.1+cu101)\n",
            "Requirement already satisfied: cython in /usr/local/lib/python3.6/dist-packages (from fairseq==1.0.0a0+b8ea8a9) (0.29.21)\n",
            "Requirement already satisfied: importlib-resources; python_version < \"3.9\" in /usr/local/lib/python3.6/dist-packages (from hydra-core<1.1->fairseq==1.0.0a0+b8ea8a9) (5.1.0)\n",
            "Requirement already satisfied: antlr4-python3-runtime==4.8 in /usr/local/lib/python3.6/dist-packages (from hydra-core<1.1->fairseq==1.0.0a0+b8ea8a9) (4.8)\n",
            "Requirement already satisfied: portalocker in /usr/local/lib/python3.6/dist-packages (from sacrebleu>=1.4.12->fairseq==1.0.0a0+b8ea8a9) (2.2.0)\n",
            "Requirement already satisfied: typing-extensions in /usr/local/lib/python3.6/dist-packages (from omegaconf<2.1->fairseq==1.0.0a0+b8ea8a9) (3.7.4.3)\n",
            "Requirement already satisfied: PyYAML>=5.1.* in /usr/local/lib/python3.6/dist-packages (from omegaconf<2.1->fairseq==1.0.0a0+b8ea8a9) (5.4.1)\n",
            "Requirement already satisfied: pycparser in /usr/local/lib/python3.6/dist-packages (from cffi->fairseq==1.0.0a0+b8ea8a9) (2.20)\n",
            "Requirement already satisfied: zipp>=0.4; python_version < \"3.8\" in /usr/local/lib/python3.6/dist-packages (from importlib-resources; python_version < \"3.9\"->hydra-core<1.1->fairseq==1.0.0a0+b8ea8a9) (3.4.0)\n",
            "Building wheels for collected packages: fairseq\n",
            "  Building wheel for fairseq (PEP 517) ... \u001b[?25l\u001b[?25hdone\n",
            "  Created wheel for fairseq: filename=fairseq-1.0.0a0+b8ea8a9-cp36-cp36m-linux_x86_64.whl size=2731763 sha256=884fb14e405c83fd6e4e3c30162e7429edd7b9f1f185a3703609dbc69eb60955\n",
            "  Stored in directory: /tmp/pip-ephem-wheel-cache-aqlwj4e4/wheels/39/26/93/08a9f837c7e94436027d116b1ffe57822725b2caf742649fb3\n",
            "Successfully built fairseq\n",
            "Requirement already satisfied: fairseq in /usr/local/lib/python3.6/dist-packages (1.0.0a0+b8ea8a9)\n",
            "Requirement already satisfied: tqdm in /usr/local/lib/python3.6/dist-packages (from fairseq) (4.41.1)\n",
            "Requirement already satisfied: omegaconf<2.1 in /usr/local/lib/python3.6/dist-packages (from fairseq) (2.0.6)\n",
            "Requirement already satisfied: torch in /usr/local/lib/python3.6/dist-packages (from fairseq) (1.7.1+cu101)\n",
            "Requirement already satisfied: dataclasses; python_version < \"3.7\" in /usr/local/lib/python3.6/dist-packages (from fairseq) (0.8)\n",
            "Requirement already satisfied: cffi in /usr/local/lib/python3.6/dist-packages (from fairseq) (1.14.4)\n",
            "Requirement already satisfied: numpy<1.20.0; python_version < \"3.7\" in /usr/local/lib/python3.6/dist-packages (from fairseq) (1.19.5)\n",
            "Requirement already satisfied: sacrebleu>=1.4.12 in /usr/local/lib/python3.6/dist-packages (from fairseq) (1.5.0)\n",
            "Requirement already satisfied: regex in /usr/local/lib/python3.6/dist-packages (from fairseq) (2019.12.20)\n",
            "Requirement already satisfied: cython in /usr/local/lib/python3.6/dist-packages (from fairseq) (0.29.21)\n",
            "Requirement already satisfied: hydra-core<1.1 in /usr/local/lib/python3.6/dist-packages (from fairseq) (1.0.5)\n",
            "Requirement already satisfied: PyYAML>=5.1.* in /usr/local/lib/python3.6/dist-packages (from omegaconf<2.1->fairseq) (5.4.1)\n",
            "Requirement already satisfied: typing-extensions in /usr/local/lib/python3.6/dist-packages (from omegaconf<2.1->fairseq) (3.7.4.3)\n",
            "Requirement already satisfied: pycparser in /usr/local/lib/python3.6/dist-packages (from cffi->fairseq) (2.20)\n",
            "Requirement already satisfied: portalocker in /usr/local/lib/python3.6/dist-packages (from sacrebleu>=1.4.12->fairseq) (2.2.0)\n",
            "Requirement already satisfied: importlib-resources; python_version < \"3.9\" in /usr/local/lib/python3.6/dist-packages (from hydra-core<1.1->fairseq) (5.1.0)\n",
            "Requirement already satisfied: antlr4-python3-runtime==4.8 in /usr/local/lib/python3.6/dist-packages (from hydra-core<1.1->fairseq) (4.8)\n",
            "Requirement already satisfied: zipp>=0.4; python_version < \"3.8\" in /usr/local/lib/python3.6/dist-packages (from importlib-resources; python_version < \"3.9\"->hydra-core<1.1->fairseq) (3.4.0)\n"
          ],
          "name": "stdout"
        }
      ]
    },
    {
      "cell_type": "markdown",
      "metadata": {
        "id": "1aagqz11s7f1"
      },
      "source": [
        "##Imports"
      ]
    },
    {
      "cell_type": "code",
      "metadata": {
        "id": "Bk5-AwDdtm9o"
      },
      "source": [
        "#General imports\r\n",
        "import argparse\r\n",
        "import glob\r\n",
        "import os\r\n",
        "import os.path as osp\r\n",
        "import pprint\r\n",
        "import soundfile as sf\r\n",
        "from typing import Tuple\r\n",
        "#facebook team framework\r\n",
        "import fairseq\r\n",
        "#pytorch\r\n",
        "import torch\r\n",
        "from torch import nn\r\n",
        "from torch import optim\r\n",
        "from torch.utils.data import DataLoader\r\n",
        "import torchvision\r\n",
        "from torchvision import datasets, transforms\r\n",
        "import torchaudio\r\n",
        "from torch import Tensor\r\n",
        "from torch.utils.data import Dataset\r\n",
        "from torchaudio.datasets.utils import (\r\n",
        "    download_url,\r\n",
        "    extract_archive,\r\n",
        "    walk_files,\r\n",
        ")\r\n",
        "\r\n",
        "#matplotlib\r\n",
        "import matplotlib.pyplot as plt\r\n",
        "#numpy\r\n",
        "import numpy as np\r\n",
        "#pandas\r\n",
        "import pandas as pd\r\n",
        "try:\r\n",
        "    import tqdm\r\n",
        "except:\r\n",
        "    print(\"Install tqdm to use --log-format=tqdm\")\r\n",
        "\r\n"
      ],
      "execution_count": 76,
      "outputs": []
    },
    {
      "cell_type": "code",
      "metadata": {
        "colab": {
          "base_uri": "https://localhost:8080/"
        },
        "id": "PPN7qCOwll0k",
        "outputId": "9c6c965b-9cb4-4270-e73e-42dd29af722c"
      },
      "source": [
        "import torch\r\n",
        "print(torch.__version__)\r\n",
        "!nvcc --version\r\n",
        "device = torch.device(\"cuda\" if torch.cuda.is_available() else \"cpu\")\r\n",
        "print(device)\r\n",
        "print(torch.cuda.is_available())"
      ],
      "execution_count": 2,
      "outputs": [
        {
          "output_type": "stream",
          "text": [
            "1.7.1+cu101\n",
            "nvcc: NVIDIA (R) Cuda compiler driver\n",
            "Copyright (c) 2005-2019 NVIDIA Corporation\n",
            "Built on Sun_Jul_28_19:07:16_PDT_2019\n",
            "Cuda compilation tools, release 10.1, V10.1.243\n",
            "cuda\n",
            "True\n"
          ],
          "name": "stdout"
        }
      ]
    },
    {
      "cell_type": "markdown",
      "metadata": {
        "id": "DVmPE6q7t_Eq"
      },
      "source": [
        "##Get Trained Model & Try Sanity Code"
      ]
    },
    {
      "cell_type": "code",
      "metadata": {
        "colab": {
          "base_uri": "https://localhost:8080/"
        },
        "id": "nedhgxmcuDaS",
        "outputId": "10cad435-1377-4aef-92e2-6ac0d3caa7c9"
      },
      "source": [
        "cp_path = cp_path = '/content/drive/My Drive/DeepProject/wav2vec/wav2vec_large.pt'\r\n",
        "model, cfg, task = fairseq.checkpoint_utils.load_model_ensemble_and_task([cp_path])\r\n",
        "model = model[0]\r\n",
        "model.eval()\r\n",
        "\r\n",
        "wav_input_16khz = torch.randn(1,10000)\r\n",
        "z = model.feature_extractor(wav_input_16khz)\r\n",
        "c = model.feature_aggregator(z)\r\n",
        "print(f'input shape = {wav_input_16khz.shape} ; z shape = {z.shape} ; z shape = {c.shape}')"
      ],
      "execution_count": 12,
      "outputs": [
        {
          "output_type": "stream",
          "text": [
            "input shape = torch.Size([1, 10000]) ; z shape = torch.Size([1, 512, 60]) ; z shape = torch.Size([1, 512, 60])\n"
          ],
          "name": "stdout"
        }
      ]
    },
    {
      "cell_type": "code",
      "metadata": {
        "id": "euSpEw7Z3QT0"
      },
      "source": [
        "#@title Hyperparametes\n",
        "batch_size = 32\n",
        "epochs = 100\n"
      ],
      "execution_count": 160,
      "outputs": []
    },
    {
      "cell_type": "markdown",
      "metadata": {
        "id": "n-sCUryI1ptJ"
      },
      "source": [
        "###Download Dataset\r\n",
        "###Information about LibriSpeech dataset:\r\n",
        "1. Total of 982 hours of 16KHz read English speech\r\n",
        "2. 2484 speakers in this corpus.\r\n",
        "3. Suppose to be reasonably balances in terms of gender and per-speaker duration\r\n",
        "4. Allowed urls for LIBRISPEECH - \"dev-clean\", \"dev-other\", \"test-clean\", \"test-other\", \"train-clean-100\", \"train-clean-360\" and \"train-other-500\". (default: \"train-clean-100\")"
      ]
    },
    {
      "cell_type": "code",
      "metadata": {
        "id": "nU6KWwI91ruB"
      },
      "source": [
        "# rootDir = '/content/drive/MyDrive/DeepProject/wav2vec/'\r\n",
        "# # Download training data\r\n",
        "# train_data = torchaudio.datasets.LIBRISPEECH(f'{rootDir}/dataset/', download=True)\r\n",
        "# # Download test data\r\n",
        "# test_data = torchaudio.datasets.LIBRISPEECH(f'{rootDir}/dataset/', url='test-clean', download=True)"
      ],
      "execution_count": null,
      "outputs": []
    },
    {
      "cell_type": "markdown",
      "metadata": {
        "id": "eRH31dJMM9OG"
      },
      "source": [
        "##Helper Functions"
      ]
    },
    {
      "cell_type": "code",
      "metadata": {
        "id": "u9sfMLUeM_0_"
      },
      "source": [
        "def read_audio(fname):\r\n",
        "    ''' Load an audio file and return PCM along with the sample rate '''\r\n",
        "\r\n",
        "    wav, sr = sf.read(fname)\r\n",
        "    assert sr == 16e3\r\n",
        "\r\n",
        "    return wav, 16e3\r\n",
        "\r\n",
        "\r\n",
        "def audio2tensor(fname):\r\n",
        "  ''' This function will convert audio samples to tensor '''\r\n",
        "  input, _ = read_audio(fname)\r\n",
        "  input_tensor = torch.from_numpy(input).float()\r\n",
        "  return input_tensor.reshape(1, input_tensor.size(0))\r\n",
        "\r\n",
        "\r\n",
        "def get_audio_repr(fname):\r\n",
        "  ''' This function will get audio as input and will output its representation\r\n",
        "      as wav2vec model outputs '''\r\n",
        "  input_tensor = audio2tensor(fname)\r\n",
        "  z = model.feature_extractor(input_tensor)\r\n",
        "  c = model.feature_aggregator(z)\r\n",
        "  return c\r\n",
        "\r\n",
        "\r\n",
        "def get_tensor_repr(input_tensor):\r\n",
        "  '''This function will get a tensor and return its representation as wav2vec\r\n",
        "     model outputs'''\r\n",
        "  with torch.no_grad():\r\n",
        "    z = model.feature_extractor(input_tensor)\r\n",
        "    c = model.feature_aggregator(z)\r\n",
        "    return c\r\n",
        "\r\n",
        "\r\n",
        "def get_sv_example_generator(data):\r\n",
        "  '''This function gets data that loaded as LIBRISPEECH dataset and yields its\r\n",
        "     wav2vec tensor representation with the speaker id''' \r\n",
        "  train_data_iter = iter(data)\r\n",
        "  for i in train_data_iter:\r\n",
        "    yield [get_tensor_repr(i[0]), i[3]]"
      ],
      "execution_count": 19,
      "outputs": []
    },
    {
      "cell_type": "markdown",
      "metadata": {
        "id": "kRHqwROyKmRy"
      },
      "source": [
        "##Make My Own Dataset Class"
      ]
    },
    {
      "cell_type": "code",
      "metadata": {
        "id": "xtQG9p38KNyG",
        "colab": {
          "base_uri": "https://localhost:8080/"
        },
        "outputId": "d8ff6902-adc0-49d5-8141-765acea669d4"
      },
      "source": [
        "rootDir = '/content/drive/MyDrive/DeepProject/wav2vec/'\r\n",
        "URL = \"train-clean-100\"\r\n",
        "FOLDER_IN_ARCHIVE = \"SV_Librispeech_Dataset\"\r\n",
        "FOLDER_IN_ARCHIVE_ORIGINAL_LIBRI = \"LibriSpeech\"\r\n",
        "_CHECKSUMS = {\r\n",
        "    \"http://www.openslr.org/resources/12/dev-clean.tar.gz\":\r\n",
        "    \"76f87d090650617fca0cac8f88b9416e0ebf80350acb97b343a85fa903728ab3\",\r\n",
        "    \"http://www.openslr.org/resources/12/dev-other.tar.gz\":\r\n",
        "    \"12661c48e8c3fe1de2c1caa4c3e135193bfb1811584f11f569dd12645aa84365\",\r\n",
        "    \"http://www.openslr.org/resources/12/test-clean.tar.gz\":\r\n",
        "    \"39fde525e59672dc6d1551919b1478f724438a95aa55f874b576be21967e6c23\",\r\n",
        "    \"http://www.openslr.org/resources/12/test-other.tar.gz\":\r\n",
        "    \"d09c181bba5cf717b3dee7d4d592af11a3ee3a09e08ae025c5506f6ebe961c29\",\r\n",
        "    \"http://www.openslr.org/resources/12/train-clean-100.tar.gz\":\r\n",
        "    \"d4ddd1d5a6ab303066f14971d768ee43278a5f2a0aa43dc716b0e64ecbbbf6e2\",\r\n",
        "    \"http://www.openslr.org/resources/12/train-clean-360.tar.gz\":\r\n",
        "    \"146a56496217e96c14334a160df97fffedd6e0a04e66b9c5af0d40be3c792ecf\",\r\n",
        "    \"http://www.openslr.org/resources/12/train-other-500.tar.gz\":\r\n",
        "    \"ddb22f27f96ec163645d53215559df6aa36515f26e01dd70798188350adcb6d2\"\r\n",
        "}\r\n",
        "\r\n",
        "\r\n",
        "size = (100, 100)\r\n",
        "#filter options for tranform are:\r\n",
        "#1. PIL.Image.NEAREST -> Pick one nearest pixel from the input image. Ignore all other input pixels.\r\n",
        "#2. PIL.Image.BILINEAR -> For resize calculate the output pixel value using linear interpolation on all pixels that may contribute to the output value. For other transformations linear interpolation over a 2x2 environment in the input image is used.\r\n",
        "#3. PIL.Image.HAMMING -> Produces a sharper image than BILINEAR, doesn’t have dislocations on local level like with BOX.\r\n",
        "#4. PIL.Image.BICUBIC -> For resize calculate the output pixel value using cubic interpolation on all pixels that may contribute to the output value. For other transformations cubic interpolation over a 4x4 environment in the input image is used.\r\n",
        "#5. PIL.Image.LANCZOS -> Calculate the output pixel value using a high-quality Lanczos filter (a truncated sinc) on all pixels that may contribute to the output value\r\n",
        "#For more details -> https://pillow.readthedocs.io/en/latest/handbook/concepts.html#filters\r\n",
        "transform = transforms.Resize(size)\r\n",
        "\r\n",
        "\r\n",
        "def load_sv_librispeech_item(fileid: str, path: str, ext_audio: str,\r\n",
        "                          wav2vec_fine_tuning: bool) -> Tuple[Tensor, int]:\r\n",
        "    '''This function will get path to audio file and will return a list of\r\n",
        "       this audio representation as wav2vec model produces with the speaker_id\r\n",
        "       Updata -> returning wav2vec is too heavy and causes runtime reset!\r\n",
        "       Maybe working with google VM will solve this issue.'''\r\n",
        "    speaker_id, utterance_id = fileid.split(\"-\")\r\n",
        "    #fileid_audio = speaker_id + \"-\" + chapter_id + \"-\" + utterance_id\r\n",
        "    fileid_audio = speaker_id + \"-\" + utterance_id\r\n",
        "    file_audio = fileid_audio + ext_audio\r\n",
        "    file_audio = os.path.join(path, speaker_id, file_audio)\r\n",
        "    waveform, _ = torchaudio.load(file_audio) # Load audio - dont care about sample rate\r\n",
        "    if wav2vec_fine_tuning == False:\r\n",
        "      waveform_repr = get_tensor_repr(waveform)\r\n",
        "      return (waveform_repr, int(speaker_id))\r\n",
        "    return (waveform, int(speaker_id))\r\n",
        "    #with torch.no_grad():\r\n",
        "      #transformed_waveform_repr = transform(waveform_repr)\r\n",
        "    #return transformed_waveform_repr, int(speaker_id)\r\n",
        "    \r\n",
        "    #return (waveform, int(speaker_id))\r\n",
        "\r\n",
        "\r\n",
        "# create my own collate function to avoid stacking same size examples in a batch\r\n",
        "def my_collate(batch):\r\n",
        "    data = [item[0] for item in batch]  #get 512 X ? tensor in item[0]\r\n",
        "    data = tuple(data)\r\n",
        "    data = torch.cat(data)\r\n",
        "    data = torch.tensor(data, dtype=torch.float)\r\n",
        "    target = [item[1] for item in batch]        \r\n",
        "    target = torch.LongTensor(target)\r\n",
        "    return [data, target]\r\n",
        "\r\n",
        "\r\n",
        "class SV_LIBRISPEECH(Dataset):\r\n",
        "    \"\"\"Create a Dataset for SV_LibriSpeech.\r\n",
        "\r\n",
        "    Args:\r\n",
        "        root (str): Path to the directory where the dataset is found or downloaded.\r\n",
        "        url (str, optional): The URL to download the dataset from,\r\n",
        "            or the type of the dataset to dowload.\r\n",
        "            Allowed type values are ``\"dev-clean\"``, ``\"dev-other\"``, ``\"test-clean\"``,\r\n",
        "            ``\"test-other\"``, ``\"train-clean-100\"``, ``\"train-clean-360\"`` and\r\n",
        "            ``\"train-other-500\"``. (default: ``\"train-clean-100\"``)\r\n",
        "        folder_in_archive (str, optional):\r\n",
        "            The top-level directory of the dataset. (default: ``\"LibriSpeech\"``)\r\n",
        "        download (bool, optional):\r\n",
        "            Whether to download the dataset if it is not found at root path. (default: ``False``).\r\n",
        "    \"\"\"\r\n",
        "\r\n",
        "    _ext_audio = \".flac\"\r\n",
        "\r\n",
        "    def __init__(self, root: str, url: str = URL,\r\n",
        "                 folder_in_archive: str = FOLDER_IN_ARCHIVE,\r\n",
        "                 download: bool = False, is_SV: bool = True, wav2vec_fine_tuning: bool = False) -> None:\r\n",
        "\r\n",
        "        if url in [\r\n",
        "            \"dev-clean\",\r\n",
        "            \"dev-other\",\r\n",
        "            \"test-clean\",\r\n",
        "            \"test-other\",\r\n",
        "            \"train-clean-100\",\r\n",
        "            \"train-clean-360\",\r\n",
        "            \"train-other-500\",\r\n",
        "        ]:\r\n",
        "            ext_archive = \".tar.gz\"\r\n",
        "            base_url = \"http://www.openslr.org/resources/12/\"\r\n",
        "\r\n",
        "            url = os.path.join(base_url, url + ext_archive)\r\n",
        "\r\n",
        "        basename = os.path.basename(url)\r\n",
        "        archive = os.path.join(root, basename)\r\n",
        "\r\n",
        "        basename = basename.split(\".\")[0]\r\n",
        "        if is_SV == False:\r\n",
        "          folder_in_archive = os.path.join(folder_in_archive, basename)\r\n",
        "\r\n",
        "        self._path = os.path.join(root, folder_in_archive)\r\n",
        "\r\n",
        "        if download:\r\n",
        "            if not os.path.isdir(self._path):\r\n",
        "                if not os.path.isfile(archive):\r\n",
        "                    checksum = _CHECKSUMS.get(url, None)\r\n",
        "                    download_url(url, root, hash_value=checksum)\r\n",
        "                extract_archive(archive)\r\n",
        "        \r\n",
        "        walker = walk_files(self._path, suffix=self._ext_audio, prefix=False, remove_suffix=True)\r\n",
        "        self._walker = list(walker)\r\n",
        "        self.ft = wav2vec_fine_tuning\r\n",
        "  \r\n",
        "\r\n",
        "    def __getitem__(self, n: int) -> Tuple[Tensor, int]:\r\n",
        "        \"\"\"Load the n-th sample from the dataset.\r\n",
        "\r\n",
        "        Args:\r\n",
        "            n (int): The index of the sample to be loaded\r\n",
        "\r\n",
        "        Returns:\r\n",
        "            tuple: ``(waveform, sample_rate, utterance, speaker_id, chapter_id, utterance_id)``\r\n",
        "        \"\"\"\r\n",
        "        fileid = self._walker[n]  #get file name without .flac suffix        \r\n",
        "        #librispeech_item, speaker_id = load_sv_librispeech_item(fileid, self._path, self._ext_audio)\r\n",
        "\r\n",
        "        return load_sv_librispeech_item(fileid, self._path, self._ext_audio, self.ft)\r\n",
        "\r\n",
        "    def __len__(self) -> int:\r\n",
        "        return len(self._walker)\r\n",
        "\r\n",
        "\r\n",
        "my_train_data = SV_LIBRISPEECH('/content/drive/MyDrive/DeepProject/wav2vec/', wav2vec_fine_tuning = False)\r\n",
        "print(len(my_train_data))\r\n",
        "my_train_loader = torch.utils.data.DataLoader(my_train_data, batch_size=batch_size, shuffle=True, collate_fn=my_collate)"
      ],
      "execution_count": 161,
      "outputs": [
        {
          "output_type": "stream",
          "text": [
            "1606\n"
          ],
          "name": "stdout"
        }
      ]
    },
    {
      "cell_type": "markdown",
      "metadata": {
        "id": "X7I8R5VKOuYD"
      },
      "source": [
        "##Write list of audio lengths to a file"
      ]
    },
    {
      "cell_type": "code",
      "metadata": {
        "colab": {
          "base_uri": "https://localhost:8080/"
        },
        "id": "pZfJGaKbOy0-",
        "outputId": "7510c240-abc4-450d-f4d5-ceaa220c38ff"
      },
      "source": [
        "from tabulate import tabulate\r\n",
        "x = list(range(25))\r\n",
        "l = [0, 24, 563, 683, 670, 620, 636, 661, 722, 785, 975, 1379, 2491, 4074, 6012, 6428, 1763, 49, 1, 2, 0, 0, 0, 0, 1]\r\n",
        "table_data = [x, l]\r\n",
        "print(tabulate(table_data, headers='firstrow', tablefmt='fancy_grid'))\r\n",
        "#write it to a file\r\n",
        "with open('histogram.txt', 'w') as f:\r\n",
        "  f.write(tabulate(table_data, headers='firstrow', tablefmt='fancy_grid'))"
      ],
      "execution_count": 98,
      "outputs": [
        {
          "output_type": "stream",
          "text": [
            "╒═════╤═════╤═════╤═════╤═════╤═════╤═════╤═════╤═════╤═════╤══════╤══════╤══════╤══════╤══════╤══════╤══════╤══════╤══════╤══════╤══════╤══════╤══════╤══════╤══════╕\n",
            "│   0 │   1 │   2 │   3 │   4 │   5 │   6 │   7 │   8 │   9 │   10 │   11 │   12 │   13 │   14 │   15 │   16 │   17 │   18 │   19 │   20 │   21 │   22 │   23 │   24 │\n",
            "╞═════╪═════╪═════╪═════╪═════╪═════╪═════╪═════╪═════╪═════╪══════╪══════╪══════╪══════╪══════╪══════╪══════╪══════╪══════╪══════╪══════╪══════╪══════╪══════╪══════╡\n",
            "│   0 │  24 │ 563 │ 683 │ 670 │ 620 │ 636 │ 661 │ 722 │ 785 │  975 │ 1379 │ 2491 │ 4074 │ 6012 │ 6428 │ 1763 │   49 │    1 │    2 │    0 │    0 │    0 │    0 │    1 │\n",
            "╘═════╧═════╧═════╧═════╧═════╧═════╧═════╧═════╧═════╧═════╧══════╧══════╧══════╧══════╧══════╧══════╧══════╧══════╧══════╧══════╧══════╧══════╧══════╧══════╧══════╛\n"
          ],
          "name": "stdout"
        }
      ]
    },
    {
      "cell_type": "markdown",
      "metadata": {
        "id": "u58OZqHFLQ2w"
      },
      "source": [
        "##Just checking it worked"
      ]
    },
    {
      "cell_type": "code",
      "metadata": {
        "colab": {
          "base_uri": "https://localhost:8080/"
        },
        "id": "p8WkMdWxKSmh",
        "outputId": "04487bff-4b3b-458e-b80a-c2bd0bc93f35"
      },
      "source": [
        "#print(next(iter(my_train_loader)))\r\n",
        "counter = 0\r\n",
        "for i, data in enumerate(my_train_loader, 0):\r\n",
        "  counter = counter + 1\r\n",
        "  if counter > 3:\r\n",
        "    break\r\n",
        "  inputs, labels = data[0].to(device), data[1].to(device)\r\n",
        "  print(inputs[0].shape)\r\n",
        "  print(inputs[1].shape)"
      ],
      "execution_count": 163,
      "outputs": [
        {
          "output_type": "stream",
          "text": [
            "/usr/local/lib/python3.6/dist-packages/ipykernel_launcher.py:62: UserWarning: To copy construct from a tensor, it is recommended to use sourceTensor.clone().detach() or sourceTensor.clone().detach().requires_grad_(True), rather than torch.tensor(sourceTensor).\n"
          ],
          "name": "stderr"
        },
        {
          "output_type": "stream",
          "text": [
            "torch.Size([512, 298])\n",
            "torch.Size([512, 298])\n",
            "torch.Size([512, 298])\n",
            "torch.Size([512, 298])\n",
            "torch.Size([512, 298])\n",
            "torch.Size([512, 298])\n"
          ],
          "name": "stdout"
        }
      ]
    },
    {
      "cell_type": "markdown",
      "metadata": {
        "id": "BCmTGT_Nxckv"
      },
      "source": [
        "##Check size of preprocessed data"
      ]
    },
    {
      "cell_type": "code",
      "metadata": {
        "colab": {
          "base_uri": "https://localhost:8080/"
        },
        "id": "9QM5NPCNwhl7",
        "outputId": "904be388-7e48-45f1-af12-42dbe045744f"
      },
      "source": [
        "a, s1 = torchaudio.load('/content/drive/MyDrive/DeepProject/wav2vec/SV_Librispeech_Dataset/1088/5.flac')\r\n",
        "b, s2 = torchaudio.load('/content/drive/MyDrive/DeepProject/wav2vec/SV_Librispeech_Dataset/1088/6.flac')\r\n",
        "print(a.shape, s1)\r\n",
        "print(b.shape, s2)"
      ],
      "execution_count": 108,
      "outputs": [
        {
          "output_type": "stream",
          "text": [
            "MyDrive  Shareddrives\n",
            "torch.Size([1, 48000]) 16000\n",
            "torch.Size([1, 48000]) 16000\n"
          ],
          "name": "stdout"
        }
      ]
    },
    {
      "cell_type": "markdown",
      "metadata": {
        "id": "d4d8zcXnI-PH"
      },
      "source": [
        "##Show Training Examples"
      ]
    },
    {
      "cell_type": "code",
      "metadata": {
        "colab": {
          "base_uri": "https://localhost:8080/"
        },
        "id": "GxXLL63s9o8z",
        "outputId": "b359f2a3-7762-4e77-eaf8-c556568bf116"
      },
      "source": [
        "exmps = next(iter(my_train_data))\r\n",
        "count = 0\r\n",
        "for i in iter(my_train_data):\r\n",
        "  count = count + 1\r\n",
        "  print(i)\r\n",
        "  if count == 2:\r\n",
        "    break\r\n",
        "print(exmps[0].shape)  #audio samples as tensor\r\n",
        "print(exmps[1])  #represents speaker id"
      ],
      "execution_count": 162,
      "outputs": [
        {
          "output_type": "stream",
          "text": [
            "(tensor([[[1.1117e-02, 1.1208e-02, 1.5232e-02,  ..., 1.9779e-02,\n",
            "          3.3761e-02, 3.6744e-02],\n",
            "         [0.0000e+00, 0.0000e+00, 0.0000e+00,  ..., 0.0000e+00,\n",
            "          0.0000e+00, 6.2024e-03],\n",
            "         [3.4431e-02, 4.2196e-02, 7.5523e-02,  ..., 0.0000e+00,\n",
            "          7.4715e-03, 7.1994e-03],\n",
            "         ...,\n",
            "         [2.9838e-04, 0.0000e+00, 8.9853e-04,  ..., 0.0000e+00,\n",
            "          0.0000e+00, 1.1920e-03],\n",
            "         [2.7779e-01, 2.4062e-01, 2.4504e-01,  ..., 1.6338e-01,\n",
            "          1.6800e-01, 1.7845e-01],\n",
            "         [5.9156e-04, 2.6030e-04, 0.0000e+00,  ..., 3.3415e-01,\n",
            "          3.8136e-01, 3.5824e-01]]]), 103)\n",
            "(tensor([[[0.0053, 0.0044, 0.0099,  ..., 0.0233, 0.0198, 0.0234],\n",
            "         [0.0000, 0.0000, 0.0000,  ..., 0.0000, 0.0000, 0.0000],\n",
            "         [0.0000, 0.0000, 0.0000,  ..., 0.0034, 0.0044, 0.0050],\n",
            "         ...,\n",
            "         [0.0061, 0.0062, 0.0073,  ..., 0.0294, 0.0441, 0.0276],\n",
            "         [0.0795, 0.0917, 0.0316,  ..., 0.0273, 0.0450, 0.0153],\n",
            "         [0.1715, 0.2008, 0.1697,  ..., 0.2998, 0.3033, 0.3735]]]), 103)\n",
            "torch.Size([1, 512, 298])\n",
            "103\n"
          ],
          "name": "stdout"
        }
      ]
    },
    {
      "cell_type": "code",
      "metadata": {
        "colab": {
          "base_uri": "https://localhost:8080/",
          "height": 319
        },
        "id": "cl6hfTJl30r0",
        "outputId": "3307defc-1e5f-4829-80b9-94e2b4fe2ffa"
      },
      "source": [
        "waveform, sample_rate = torchaudio.load(f'{speaker_84_data_dir}/121123/84-121123-0003.flac')\r\n",
        "\r\n",
        "print(\"Shape of waveform: {}\".format(waveform.size()))\r\n",
        "print(\"Sample rate of waveform: {}\".format(sample_rate))\r\n",
        "\r\n",
        "plt.figure()\r\n",
        "plt.plot(waveform.t().numpy())"
      ],
      "execution_count": null,
      "outputs": [
        {
          "output_type": "stream",
          "text": [
            "Shape of waveform: torch.Size([1, 108800])\n",
            "Sample rate of waveform: 16000\n"
          ],
          "name": "stdout"
        },
        {
          "output_type": "execute_result",
          "data": {
            "text/plain": [
              "[<matplotlib.lines.Line2D at 0x7f555f8462b0>]"
            ]
          },
          "metadata": {
            "tags": []
          },
          "execution_count": 74
        },
        {
          "output_type": "display_data",
          "data": {
            "image/png": "[encoded data removed]",
            "text/plain": [
              "<Figure size 432x288 with 1 Axes>"
            ]
          },
          "metadata": {
            "tags": [],
            "needs_background": "light"
          }
        }
      ]
    },
    {
      "cell_type": "markdown",
      "metadata": {
        "id": "k0KzliWhmM4z"
      },
      "source": [
        "###Get information about audio file include the duration time in seconds"
      ]
    },
    {
      "cell_type": "code",
      "metadata": {
        "colab": {
          "base_uri": "https://localhost:8080/"
        },
        "id": "RKQpj0VElfL0",
        "outputId": "60154bb9-0fc9-46bb-de0f-5ba9c3fa684b"
      },
      "source": [
        "print(sf.info(f'{speaker_84_data_dir}/121123/84-121123-0003.flac'))"
      ],
      "execution_count": null,
      "outputs": [
        {
          "output_type": "stream",
          "text": [
            "/content/drive/MyDrive/DeepProject/wav2vec/LibriSpeech/dev-clean/84/121123/84-121123-0003.flac\n",
            "samplerate: 16000 Hz\n",
            "channels: 1\n",
            "duration: 6.800 s\n",
            "format: FLAC (Free Lossless Audio Codec) [FLAC]\n",
            "subtype: Signed 16 bit PCM [PCM_16]\n"
          ],
          "name": "stdout"
        }
      ]
    },
    {
      "cell_type": "markdown",
      "metadata": {
        "id": "Z8j9j6HDwjtq"
      },
      "source": [
        "##On Top Model"
      ]
    },
    {
      "cell_type": "code",
      "metadata": {
        "id": "BxdGfXSAwrmv"
      },
      "source": [
        "class NAIVE_SV(nn.Module):\r\n",
        "  "
      ],
      "execution_count": null,
      "outputs": []
    },
    {
      "cell_type": "markdown",
      "metadata": {
        "id": "QRMUgnPQh06k"
      },
      "source": [
        "##Declare Loss functions and some Hyperparametes"
      ]
    },
    {
      "cell_type": "code",
      "metadata": {
        "id": "YyzaaNtbh9sF"
      },
      "source": [
        ""
      ],
      "execution_count": null,
      "outputs": []
    },
    {
      "cell_type": "markdown",
      "metadata": {
        "id": "Mle8wZjCh-KF"
      },
      "source": [
        "##Generic Training Code"
      ]
    },
    {
      "cell_type": "code",
      "metadata": {
        "id": "7oKSikRdiDho"
      },
      "source": [
        ""
      ],
      "execution_count": null,
      "outputs": []
    }
  ]
}