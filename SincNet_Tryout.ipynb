{
  "nbformat": 4,
  "nbformat_minor": 0,
  "metadata": {
    "colab": {
      "name": "SincNet-Tryout.ipynb",
      "provenance": [],
      "collapsed_sections": [],
      "toc_visible": true,
      "mount_file_id": "1AYNGUtJ_ApnRTLvGHWV28odnPWZ7TlpL",
      "authorship_tag": "ABX9TyPhfPeTiWN91fz9WOlHph4w",
      "include_colab_link": true
    },
    "kernelspec": {
      "name": "python3",
      "display_name": "Python 3"
    }
  },
  "cells": [
    {
      "cell_type": "markdown",
      "metadata": {
        "id": "view-in-github",
        "colab_type": "text"
      },
      "source": [
        "<a href=\"https://colab.research.google.com/github/danshal/DL_project/blob/develop/SincNet_Tryout.ipynb\" target=\"_parent\"><img src=\"https://colab.research.google.com/assets/colab-badge.svg\" alt=\"Open In Colab\"/></a>"
      ]
    },
    {
      "cell_type": "code",
      "metadata": {
        "id": "d67x-uag1D05"
      },
      "source": [
        "!git remote add origin https://github.com/danshal/DL_project.git"
      ],
      "execution_count": 11,
      "outputs": []
    },
    {
      "cell_type": "code",
      "metadata": {
        "colab": {
          "base_uri": "https://localhost:8080/"
        },
        "id": "AextnY6T1qGZ",
        "outputId": "ef8804d8-26e9-41cf-ca76-c9106cd3b6c2"
      },
      "source": [
        "!git remote -v"
      ],
      "execution_count": 12,
      "outputs": [
        {
          "output_type": "stream",
          "text": [
            "origin\thttps://github.com/danshal/DL_project.git (fetch)\n",
            "origin\thttps://github.com/danshal/DL_project.git (push)\n"
          ],
          "name": "stdout"
        }
      ]
    },
    {
      "cell_type": "code",
      "metadata": {
        "colab": {
          "base_uri": "https://localhost:8080/"
        },
        "id": "LiNJf7tm1spD",
        "outputId": "31778b16-d202-48c8-e262-ca582a5779f1"
      },
      "source": [
        "!pwd"
      ],
      "execution_count": 28,
      "outputs": [
        {
          "output_type": "stream",
          "text": [
            "/content/drive/.shortcut-targets-by-id/1t8BkoYgxMuhKXyBaob6SJI-fyCBp11k_/DeepProject/SincNet\n"
          ],
          "name": "stdout"
        }
      ]
    },
    {
      "cell_type": "code",
      "metadata": {
        "colab": {
          "base_uri": "https://localhost:8080/"
        },
        "id": "4E-FFuEU1uiz",
        "outputId": "dcd109e6-5f21-4085-f90a-c8789e626409"
      },
      "source": [
        "!git status"
      ],
      "execution_count": 29,
      "outputs": [
        {
          "output_type": "stream",
          "text": [
            "fatal: not a git repository (or any parent up to mount point /content)\n",
            "Stopping at filesystem boundary (GIT_DISCOVERY_ACROSS_FILESYSTEM not set).\n"
          ],
          "name": "stdout"
        }
      ]
    },
    {
      "cell_type": "code",
      "metadata": {
        "id": "DioJ_f3bxsyV",
        "colab": {
          "base_uri": "https://localhost:8080/"
        },
        "outputId": "558de429-cf9f-4c27-a3fd-c71bb681fe08"
      },
      "source": [
        "!git status"
      ],
      "execution_count": 17,
      "outputs": [
        {
          "output_type": "stream",
          "text": [
            "On branch develop\n",
            "Your branch is up to date with 'origin/develop'.\n",
            "\n",
            "Untracked files:\n",
            "  (use \"git add <file>...\" to include in what will be committed)\n",
            "\n",
            "\t\u001b[31m.config/\u001b[m\n",
            "\t\u001b[31mdrive/\u001b[m\n",
            "\t\u001b[31msample_data/\u001b[m\n",
            "\n",
            "nothing added to commit but untracked files present (use \"git add\" to track)\n"
          ],
          "name": "stdout"
        }
      ]
    },
    {
      "cell_type": "code",
      "metadata": {
        "colab": {
          "base_uri": "https://localhost:8080/"
        },
        "id": "o6bp7Tjk2FqC",
        "outputId": "0a5512bd-bc32-4d15-f753-5af41728298a"
      },
      "source": [
        "!git add .\r\n",
        "#!git commit -m \"First project commit on develop\""
      ],
      "execution_count": 21,
      "outputs": [
        {
          "output_type": "stream",
          "text": [
            "error: open(\"drive/MyDrive/ex2_207024621_315471375/ex2.gdoc\"): Operation not supported\n",
            "error: unable to index file drive/MyDrive/ex2_207024621_315471375/ex2.gdoc\n",
            "fatal: adding files failed\n"
          ],
          "name": "stdout"
        }
      ]
    },
    {
      "cell_type": "code",
      "metadata": {
        "id": "xXZrXk_F2U11"
      },
      "source": [
        "!git config --global user.email dans96@gmail.com\r\n",
        "!git config --global user.name danshal"
      ],
      "execution_count": 20,
      "outputs": []
    },
    {
      "cell_type": "code",
      "metadata": {
        "colab": {
          "base_uri": "https://localhost:8080/"
        },
        "id": "YD1eKdK3z-Qt",
        "outputId": "4afa3af9-155b-4863-dae2-c68dde860fbf"
      },
      "source": [
        "from kora import console\r\n",
        "console.start()"
      ],
      "execution_count": 3,
      "outputs": [
        {
          "output_type": "stream",
          "text": [
            "Console URL: https://teleconsole.com/s/4aa53c3b72323724223d2167ed8c7a64e1303ae6\n"
          ],
          "name": "stdout"
        }
      ]
    },
    {
      "cell_type": "markdown",
      "metadata": {
        "id": "v2XABjcm09RI"
      },
      "source": [
        "#Mount My Google Drive"
      ]
    },
    {
      "cell_type": "code",
      "metadata": {
        "colab": {
          "base_uri": "https://localhost:8080/"
        },
        "id": "g6AWeOm-0hF9",
        "outputId": "51abd89f-ffcb-4794-b503-8b077c97f7db"
      },
      "source": [
        "from google.colab import drive\r\n",
        "drive.mount('/content/drive/')"
      ],
      "execution_count": 7,
      "outputs": [
        {
          "output_type": "stream",
          "text": [
            "Mounted at /content/drive/\n"
          ],
          "name": "stdout"
        }
      ]
    }
  ]
}